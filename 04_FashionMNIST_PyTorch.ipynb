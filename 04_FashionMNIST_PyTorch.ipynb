{
  "cells": [
    {
      "cell_type": "markdown",
      "metadata": {
        "id": "view-in-github",
        "colab_type": "text"
      },
      "source": [
        "<a href=\"https://colab.research.google.com/github/tejas-shanthraj/srh-da3-deep-learning/blob/main/04_FashionMNIST_PyTorch.ipynb\" target=\"_parent\"><img src=\"https://colab.research.google.com/assets/colab-badge.svg\" alt=\"Open In Colab\"/></a>"
      ]
    },
    {
      "cell_type": "markdown",
      "metadata": {
        "id": "eSHhdguTHm0N"
      },
      "source": [
        "# Challenge: Get the best results on the [fashion-MNIST](https://github.com/zalandoresearch/fashion-mnist) dataset!\n",
        "\n",
        "> \"Fashion-MNIST is a dataset of Zalando's article images—consisting of a training set of 60,000 examples and a test set of 10,000 examples. Each example is a 28x28 grayscale image, associated with a label from 10 classes. We intend Fashion-MNIST to serve as a direct drop-in replacement for the original MNIST dataset for benchmarking machine learning algorithms. It shares the same image size and structure of training and testing splits.\"\n",
        "\n",
        "<img src=\"https://raw.githubusercontent.com/zalandoresearch/fashion-mnist/master/doc/img/fashion-mnist-sprite.png\">\n",
        "\n",
        "\n",
        "TASK - Challenge: Get the best results on the fashionMNIST dataset!\n",
        "\n",
        "The challenge of this task is to get the best results on the fashionMNIST dataset by tuning hyperparameters of the model and observing convergence behavior.\n",
        "\n",
        "\"Best\" - for simplicity - means the highest accuracy on the validation set.\n",
        "\n",
        "\"Rules\":\n",
        "\n",
        "    You can change any hyperparameters,\n",
        "    including the number of layers,\n",
        "    width of the layers,\n",
        "    activation functions,\n",
        "    regularizers (and their parameters),\n",
        "    optimizer (and it's parameters), but\n",
        "    you should not change the model architecture, use only fully connected layers! (Even if you know any others... :-P\n",
        "\n",
        "Added constraint: The model with the \"best performance\" has to be saved, so it should not be just a printout happening once during training!\n",
        "\n",
        "And: You may NOT manipulate the validation set! :-P\n",
        "\n",
        "Happy coding! :-)\n"
      ]
    },
    {
      "cell_type": "markdown",
      "metadata": {
        "id": "TIX2ehpiHm0S"
      },
      "source": [
        "# Preparation\n",
        "In PyTorch, we can use our GPU in our operations by setting the [device](https://pytorch.org/docs/stable/tensor_attributes.html#torch.device) to `cuda`. The function `torch.cuda.is_available()` will confirm PyTorch can recognize the GPU."
      ]
    },
    {
      "cell_type": "code",
      "source": [
        "import torch\n",
        "\n",
        "device = torch.device(\"cuda\" if torch.cuda.is_available() else \"cpu\")\n",
        "torch.cuda.is_available()"
      ],
      "metadata": {
        "id": "Ju54NgtLauOu",
        "outputId": "77afd470-1412-48db-d45a-2298b2b80f10",
        "colab": {
          "base_uri": "https://localhost:8080/"
        }
      },
      "execution_count": 1,
      "outputs": [
        {
          "output_type": "execute_result",
          "data": {
            "text/plain": [
              "True"
            ]
          },
          "metadata": {},
          "execution_count": 1
        }
      ]
    },
    {
      "cell_type": "markdown",
      "metadata": {
        "id": "obgPxhlHanWX"
      },
      "source": [
        "# Loading the data\n",
        "The [TorchVision](https://pytorch.org/vision/stable/index.html) library provides helper methods for [many common datasets](https://pytorch.org/vision/main/datasets.html), including MNIST.\n",
        "\n",
        "But let's assume that we receive the dataset in NumPy arrays."
      ]
    },
    {
      "cell_type": "code",
      "source": [
        "import tensorflow as tf\n",
        "\n",
        "(train_images, train_labels), (valid_images, valid_labels) = tf.keras.datasets.fashion_mnist.load_data()\n",
        "\n",
        "print(train_images.shape, valid_images.shape)"
      ],
      "metadata": {
        "id": "Idl-fb1Rmokk",
        "outputId": "d98c1dad-258e-415b-a1fd-58209b406570",
        "colab": {
          "base_uri": "https://localhost:8080/"
        }
      },
      "execution_count": 2,
      "outputs": [
        {
          "output_type": "stream",
          "name": "stdout",
          "text": [
            "Downloading data from https://storage.googleapis.com/tensorflow/tf-keras-datasets/train-labels-idx1-ubyte.gz\n",
            "\u001b[1m29515/29515\u001b[0m \u001b[32m━━━━━━━━━━━━━━━━━━━━\u001b[0m\u001b[37m\u001b[0m \u001b[1m0s\u001b[0m 0us/step\n",
            "Downloading data from https://storage.googleapis.com/tensorflow/tf-keras-datasets/train-images-idx3-ubyte.gz\n",
            "\u001b[1m26421880/26421880\u001b[0m \u001b[32m━━━━━━━━━━━━━━━━━━━━\u001b[0m\u001b[37m\u001b[0m \u001b[1m0s\u001b[0m 0us/step\n",
            "Downloading data from https://storage.googleapis.com/tensorflow/tf-keras-datasets/t10k-labels-idx1-ubyte.gz\n",
            "\u001b[1m5148/5148\u001b[0m \u001b[32m━━━━━━━━━━━━━━━━━━━━\u001b[0m\u001b[37m\u001b[0m \u001b[1m0s\u001b[0m 0us/step\n",
            "Downloading data from https://storage.googleapis.com/tensorflow/tf-keras-datasets/t10k-images-idx3-ubyte.gz\n",
            "\u001b[1m4422102/4422102\u001b[0m \u001b[32m━━━━━━━━━━━━━━━━━━━━\u001b[0m\u001b[37m\u001b[0m \u001b[1m0s\u001b[0m 0us/step\n",
            "(60000, 28, 28) (10000, 28, 28)\n"
          ]
        }
      ]
    },
    {
      "cell_type": "markdown",
      "source": [
        "The classes are:\n",
        "0.   T-shirt/top\n",
        "1.   Trouser\n",
        "2.\tPullover\n",
        "3.\tDress\n",
        "4.\tCoat\n",
        "5.\tSandal\n",
        "6.\tShirt\n",
        "7.\tSneaker\n",
        "8.\tBag\n",
        "9.\tAnkle boot"
      ],
      "metadata": {
        "id": "r_Dnr781EfhV"
      }
    },
    {
      "cell_type": "code",
      "source": [
        "classes = ['T-shirt/top', 'Trouser', 'Pullover', 'Dress', 'Coat', 'Sandal', 'Shirt', 'Sneaker', 'Bag', 'Ankle boot']"
      ],
      "metadata": {
        "id": "TbxFFR92CbO0"
      },
      "execution_count": 3,
      "outputs": []
    },
    {
      "cell_type": "markdown",
      "source": [
        "Get one image out of the dataset"
      ],
      "metadata": {
        "id": "ozJ2asfsbZs9"
      }
    },
    {
      "cell_type": "code",
      "source": [
        "x_0 = train_images[0]\n",
        "x_0"
      ],
      "metadata": {
        "id": "xu6OgykoxZmb",
        "outputId": "ad9a6b99-211d-4492-909d-d9d6f4cc950b",
        "colab": {
          "base_uri": "https://localhost:8080/",
          "height": 68
        }
      },
      "execution_count": 4,
      "outputs": [
        {
          "output_type": "execute_result",
          "data": {
            "text/plain": [
              "array([[  0,   0,   0,   0,   0,   0,   0,   0,   0,   0,   0,   0,   0,\n",
              "          0,   0,   0,   0,   0,   0,   0,   0,   0,   0,   0,   0,   0,\n",
              "          0,   0],\n",
              "       [  0,   0,   0,   0,   0,   0,   0,   0,   0,   0,   0,   0,   0,\n",
              "          0,   0,   0,   0,   0,   0,   0,   0,   0,   0,   0,   0,   0,\n",
              "          0,   0],\n",
              "       [  0,   0,   0,   0,   0,   0,   0,   0,   0,   0,   0,   0,   0,\n",
              "          0,   0,   0,   0,   0,   0,   0,   0,   0,   0,   0,   0,   0,\n",
              "          0,   0],\n",
              "       [  0,   0,   0,   0,   0,   0,   0,   0,   0,   0,   0,   0,   1,\n",
              "          0,   0,  13,  73,   0,   0,   1,   4,   0,   0,   0,   0,   1,\n",
              "          1,   0],\n",
              "       [  0,   0,   0,   0,   0,   0,   0,   0,   0,   0,   0,   0,   3,\n",
              "          0,  36, 136, 127,  62,  54,   0,   0,   0,   1,   3,   4,   0,\n",
              "          0,   3],\n",
              "       [  0,   0,   0,   0,   0,   0,   0,   0,   0,   0,   0,   0,   6,\n",
              "          0, 102, 204, 176, 134, 144, 123,  23,   0,   0,   0,   0,  12,\n",
              "         10,   0],\n",
              "       [  0,   0,   0,   0,   0,   0,   0,   0,   0,   0,   0,   0,   0,\n",
              "          0, 155, 236, 207, 178, 107, 156, 161, 109,  64,  23,  77, 130,\n",
              "         72,  15],\n",
              "       [  0,   0,   0,   0,   0,   0,   0,   0,   0,   0,   0,   1,   0,\n",
              "         69, 207, 223, 218, 216, 216, 163, 127, 121, 122, 146, 141,  88,\n",
              "        172,  66],\n",
              "       [  0,   0,   0,   0,   0,   0,   0,   0,   0,   1,   1,   1,   0,\n",
              "        200, 232, 232, 233, 229, 223, 223, 215, 213, 164, 127, 123, 196,\n",
              "        229,   0],\n",
              "       [  0,   0,   0,   0,   0,   0,   0,   0,   0,   0,   0,   0,   0,\n",
              "        183, 225, 216, 223, 228, 235, 227, 224, 222, 224, 221, 223, 245,\n",
              "        173,   0],\n",
              "       [  0,   0,   0,   0,   0,   0,   0,   0,   0,   0,   0,   0,   0,\n",
              "        193, 228, 218, 213, 198, 180, 212, 210, 211, 213, 223, 220, 243,\n",
              "        202,   0],\n",
              "       [  0,   0,   0,   0,   0,   0,   0,   0,   0,   1,   3,   0,  12,\n",
              "        219, 220, 212, 218, 192, 169, 227, 208, 218, 224, 212, 226, 197,\n",
              "        209,  52],\n",
              "       [  0,   0,   0,   0,   0,   0,   0,   0,   0,   0,   6,   0,  99,\n",
              "        244, 222, 220, 218, 203, 198, 221, 215, 213, 222, 220, 245, 119,\n",
              "        167,  56],\n",
              "       [  0,   0,   0,   0,   0,   0,   0,   0,   0,   4,   0,   0,  55,\n",
              "        236, 228, 230, 228, 240, 232, 213, 218, 223, 234, 217, 217, 209,\n",
              "         92,   0],\n",
              "       [  0,   0,   1,   4,   6,   7,   2,   0,   0,   0,   0,   0, 237,\n",
              "        226, 217, 223, 222, 219, 222, 221, 216, 223, 229, 215, 218, 255,\n",
              "         77,   0],\n",
              "       [  0,   3,   0,   0,   0,   0,   0,   0,   0,  62, 145, 204, 228,\n",
              "        207, 213, 221, 218, 208, 211, 218, 224, 223, 219, 215, 224, 244,\n",
              "        159,   0],\n",
              "       [  0,   0,   0,   0,  18,  44,  82, 107, 189, 228, 220, 222, 217,\n",
              "        226, 200, 205, 211, 230, 224, 234, 176, 188, 250, 248, 233, 238,\n",
              "        215,   0],\n",
              "       [  0,  57, 187, 208, 224, 221, 224, 208, 204, 214, 208, 209, 200,\n",
              "        159, 245, 193, 206, 223, 255, 255, 221, 234, 221, 211, 220, 232,\n",
              "        246,   0],\n",
              "       [  3, 202, 228, 224, 221, 211, 211, 214, 205, 205, 205, 220, 240,\n",
              "         80, 150, 255, 229, 221, 188, 154, 191, 210, 204, 209, 222, 228,\n",
              "        225,   0],\n",
              "       [ 98, 233, 198, 210, 222, 229, 229, 234, 249, 220, 194, 215, 217,\n",
              "        241,  65,  73, 106, 117, 168, 219, 221, 215, 217, 223, 223, 224,\n",
              "        229,  29],\n",
              "       [ 75, 204, 212, 204, 193, 205, 211, 225, 216, 185, 197, 206, 198,\n",
              "        213, 240, 195, 227, 245, 239, 223, 218, 212, 209, 222, 220, 221,\n",
              "        230,  67],\n",
              "       [ 48, 203, 183, 194, 213, 197, 185, 190, 194, 192, 202, 214, 219,\n",
              "        221, 220, 236, 225, 216, 199, 206, 186, 181, 177, 172, 181, 205,\n",
              "        206, 115],\n",
              "       [  0, 122, 219, 193, 179, 171, 183, 196, 204, 210, 213, 207, 211,\n",
              "        210, 200, 196, 194, 191, 195, 191, 198, 192, 176, 156, 167, 177,\n",
              "        210,  92],\n",
              "       [  0,   0,  74, 189, 212, 191, 175, 172, 175, 181, 185, 188, 189,\n",
              "        188, 193, 198, 204, 209, 210, 210, 211, 188, 188, 194, 192, 216,\n",
              "        170,   0],\n",
              "       [  2,   0,   0,   0,  66, 200, 222, 237, 239, 242, 246, 243, 244,\n",
              "        221, 220, 193, 191, 179, 182, 182, 181, 176, 166, 168,  99,  58,\n",
              "          0,   0],\n",
              "       [  0,   0,   0,   0,   0,   0,   0,  40,  61,  44,  72,  41,  35,\n",
              "          0,   0,   0,   0,   0,   0,   0,   0,   0,   0,   0,   0,   0,\n",
              "          0,   0],\n",
              "       [  0,   0,   0,   0,   0,   0,   0,   0,   0,   0,   0,   0,   0,\n",
              "          0,   0,   0,   0,   0,   0,   0,   0,   0,   0,   0,   0,   0,\n",
              "          0,   0],\n",
              "       [  0,   0,   0,   0,   0,   0,   0,   0,   0,   0,   0,   0,   0,\n",
              "          0,   0,   0,   0,   0,   0,   0,   0,   0,   0,   0,   0,   0,\n",
              "          0,   0]], dtype=uint8)"
            ],
            "text/html": [
              "<style>\n",
              "      .ndarray_repr .ndarray_raw_data {\n",
              "        display: none;\n",
              "      }\n",
              "      .ndarray_repr.show_array .ndarray_raw_data {\n",
              "        display: block;\n",
              "      }\n",
              "      .ndarray_repr.show_array .ndarray_image_preview {\n",
              "        display: none;\n",
              "      }\n",
              "      </style>\n",
              "      <div id=\"id-205e8782-f9b1-492c-a900-98c00fcd352e\" class=\"ndarray_repr\"><pre>ndarray (28, 28) <button style=\"padding: 0 2px;\">show data</button></pre><img src=\"data:image/png;base64,iVBORw0KGgoAAAANSUhEUgAAABwAAAAcCAAAAABXZoBIAAACBUlEQVR4nLXSz0tUURQH8O+597373rx545g6NmNJY6TlJgozEsKFZGCrkDBoVdGmdf9BiwJ3bVr1PwhBUbQfJQcKjWZRTsjo0KDpDPV+eN+997WK0Z2bvtsPfM+Bc4D/HwJycwBZAEAE6zAyfe5RFMQfFYiRAj+CXM/c2HK82VetVMM34RGUmCxz9v7yYnW9dnWyskyHR6azi72Jwep3ScVk9c7LLhKQrpRBSiI2n76puZFT3doUwH4pcmw/zpjrU2zw3dFt4XEWdvbKhpinzTBYt5bDH4qlLYO8cbKBWHOudDHluFtiLrLD0kmM2//6q9VFS+JLLDxv9GzMPV9v3XuzYgHEGSUGCngbRCLd4W6CxPCLHTDwVMkDA0y/qEa/lFFBoF2EEME8CAD6hsZK8+djlmSatuiXXsWfNh27NU6Yelro1bytPElRbaGaO1FGPfc7zPg9HvHlIaVD8AjID9y/+bgZ/6iP9ks7J/QZevh8w/cd2PlGs8CKt92R7MQEk0yA7GtWq9ETN3zRs7fpR7FaWi/3yXaipW1IjFnbaSM70N7dsRzbzbHd8aCx7+wmKskUO5esz0sPmvXYF67gBzoNfxptxb5stxM10iLg1pOTO23NhcUptW1hE6gFYYprC8QMMPNsMM+4pamVbps/HGkSsg+1Cv4d+0Jh//Sm3DjGix4rfwFoJNh2/0cDFgAAAABJRU5ErkJggg==\" class=\"ndarray_image_preview\" /><pre class=\"ndarray_raw_data\">array([[  0,   0,   0,   0,   0,   0,   0,   0,   0,   0,   0,   0,   0,\n",
              "          0,   0,   0,   0,   0,   0,   0,   0,   0,   0,   0,   0,   0,\n",
              "          0,   0],\n",
              "       [  0,   0,   0,   0,   0,   0,   0,   0,   0,   0,   0,   0,   0,\n",
              "          0,   0,   0,   0,   0,   0,   0,   0,   0,   0,   0,   0,   0,\n",
              "          0,   0],\n",
              "       [  0,   0,   0,   0,   0,   0,   0,   0,   0,   0,   0,   0,   0,\n",
              "          0,   0,   0,   0,   0,   0,   0,   0,   0,   0,   0,   0,   0,\n",
              "          0,   0],\n",
              "       [  0,   0,   0,   0,   0,   0,   0,   0,   0,   0,   0,   0,   1,\n",
              "          0,   0,  13,  73,   0,   0,   1,   4,   0,   0,   0,   0,   1,\n",
              "          1,   0],\n",
              "       [  0,   0,   0,   0,   0,   0,   0,   0,   0,   0,   0,   0,   3,\n",
              "          0,  36, 136, 127,  62,  54,   0,   0,   0,   1,   3,   4,   0,\n",
              "          0,   3],\n",
              "       [  0,   0,   0,   0,   0,   0,   0,   0,   0,   0,   0,   0,   6,\n",
              "          0, 102, 204, 176, 134, 144, 123,  23,   0,   0,   0,   0,  12,\n",
              "         10,   0],\n",
              "       [  0,   0,   0,   0,   0,   0,   0,   0,   0,   0,   0,   0,   0,\n",
              "          0, 155, 236, 207, 178, 107, 156, 161, 109,  64,  23,  77, 130,\n",
              "         72,  15],\n",
              "       [  0,   0,   0,   0,   0,   0,   0,   0,   0,   0,   0,   1,   0,\n",
              "         69, 207, 223, 218, 216, 216, 163, 127, 121, 122, 146, 141,  88,\n",
              "        172,  66],\n",
              "       [  0,   0,   0,   0,   0,   0,   0,   0,   0,   1,   1,   1,   0,\n",
              "        200, 232, 232, 233, 229, 223, 223, 215, 213, 164, 127, 123, 196,\n",
              "        229,   0],\n",
              "       [  0,   0,   0,   0,   0,   0,   0,   0,   0,   0,   0,   0,   0,\n",
              "        183, 225, 216, 223, 228, 235, 227, 224, 222, 224, 221, 223, 245,\n",
              "        173,   0],\n",
              "       [  0,   0,   0,   0,   0,   0,   0,   0,   0,   0,   0,   0,   0,\n",
              "        193, 228, 218, 213, 198, 180, 212, 210, 211, 213, 223, 220, 243,\n",
              "        202,   0],\n",
              "       [  0,   0,   0,   0,   0,   0,   0,   0,   0,   1,   3,   0,  12,\n",
              "        219, 220, 212, 218, 192, 169, 227, 208, 218, 224, 212, 226, 197,\n",
              "        209,  52],\n",
              "       [  0,   0,   0,   0,   0,   0,   0,   0,   0,   0,   6,   0,  99,\n",
              "        244, 222, 220, 218, 203, 198, 221, 215, 213, 222, 220, 245, 119,\n",
              "        167,  56],\n",
              "       [  0,   0,   0,   0,   0,   0,   0,   0,   0,   4,   0,   0,  55,\n",
              "        236, 228, 230, 228, 240, 232, 213, 218, 223, 234, 217, 217, 209,\n",
              "         92,   0],\n",
              "       [  0,   0,   1,   4,   6,   7,   2,   0,   0,   0,   0,   0, 237,\n",
              "        226, 217, 223, 222, 219, 222, 221, 216, 223, 229, 215, 218, 255,\n",
              "         77,   0],\n",
              "       [  0,   3,   0,   0,   0,   0,   0,   0,   0,  62, 145, 204, 228,\n",
              "        207, 213, 221, 218, 208, 211, 218, 224, 223, 219, 215, 224, 244,\n",
              "        159,   0],\n",
              "       [  0,   0,   0,   0,  18,  44,  82, 107, 189, 228, 220, 222, 217,\n",
              "        226, 200, 205, 211, 230, 224, 234, 176, 188, 250, 248, 233, 238,\n",
              "        215,   0],\n",
              "       [  0,  57, 187, 208, 224, 221, 224, 208, 204, 214, 208, 209, 200,\n",
              "        159, 245, 193, 206, 223, 255, 255, 221, 234, 221, 211, 220, 232,\n",
              "        246,   0],\n",
              "       [  3, 202, 228, 224, 221, 211, 211, 214, 205, 205, 205, 220, 240,\n",
              "         80, 150, 255, 229, 221, 188, 154, 191, 210, 204, 209, 222, 228,\n",
              "        225,   0],\n",
              "       [ 98, 233, 198, 210, 222, 229, 229, 234, 249, 220, 194, 215, 217,\n",
              "        241,  65,  73, 106, 117, 168, 219, 221, 215, 217, 223, 223, 224,\n",
              "        229,  29],\n",
              "       [ 75, 204, 212, 204, 193, 205, 211, 225, 216, 185, 197, 206, 198,\n",
              "        213, 240, 195, 227, 245, 239, 223, 218, 212, 209, 222, 220, 221,\n",
              "        230,  67],\n",
              "       [ 48, 203, 183, 194, 213, 197, 185, 190, 194, 192, 202, 214, 219,\n",
              "        221, 220, 236, 225, 216, 199, 206, 186, 181, 177, 172, 181, 205,\n",
              "        206, 115],\n",
              "       [  0, 122, 219, 193, 179, 171, 183, 196, 204, 210, 213, 207, 211,\n",
              "        210, 200, 196, 194, 191, 195, 191, 198, 192, 176, 156, 167, 177,\n",
              "        210,  92],\n",
              "       [  0,   0,  74, 189, 212, 191, 175, 172, 175, 181, 185, 188, 189,\n",
              "        188, 193, 198, 204, 209, 210, 210, 211, 188, 188, 194, 192, 216,\n",
              "        170,   0],\n",
              "       [  2,   0,   0,   0,  66, 200, 222, 237, 239, 242, 246, 243, 244,\n",
              "        221, 220, 193, 191, 179, 182, 182, 181, 176, 166, 168,  99,  58,\n",
              "          0,   0],\n",
              "       [  0,   0,   0,   0,   0,   0,   0,  40,  61,  44,  72,  41,  35,\n",
              "          0,   0,   0,   0,   0,   0,   0,   0,   0,   0,   0,   0,   0,\n",
              "          0,   0],\n",
              "       [  0,   0,   0,   0,   0,   0,   0,   0,   0,   0,   0,   0,   0,\n",
              "          0,   0,   0,   0,   0,   0,   0,   0,   0,   0,   0,   0,   0,\n",
              "          0,   0],\n",
              "       [  0,   0,   0,   0,   0,   0,   0,   0,   0,   0,   0,   0,   0,\n",
              "          0,   0,   0,   0,   0,   0,   0,   0,   0,   0,   0,   0,   0,\n",
              "          0,   0]], dtype=uint8)</pre></div><script>\n",
              "      (() => {\n",
              "      const titles = ['show data', 'hide data'];\n",
              "      let index = 0\n",
              "      document.querySelector('#id-205e8782-f9b1-492c-a900-98c00fcd352e button').onclick = (e) => {\n",
              "        document.querySelector('#id-205e8782-f9b1-492c-a900-98c00fcd352e').classList.toggle('show_array');\n",
              "        index = (++index) % 2;\n",
              "        document.querySelector('#id-205e8782-f9b1-492c-a900-98c00fcd352e button').textContent = titles[index];\n",
              "        e.preventDefault();\n",
              "        e.stopPropagation();\n",
              "      }\n",
              "      })();\n",
              "    </script>"
            ]
          },
          "metadata": {},
          "execution_count": 4
        }
      ]
    },
    {
      "cell_type": "markdown",
      "source": [
        "# Tensors\n",
        "Let's convert our images into tensors so we can later process them with a neural network"
      ],
      "metadata": {
        "id": "IxCTWtWhipOQ"
      }
    },
    {
      "cell_type": "code",
      "source": [
        "x_0_tensor = torch.tensor(x_0)\n",
        "x_0_tensor.size()"
      ],
      "metadata": {
        "id": "NqhDA-zlippF",
        "outputId": "9c462b9f-4b2f-4de9-d80e-f66afb2d3a55",
        "colab": {
          "base_uri": "https://localhost:8080/"
        }
      },
      "execution_count": 5,
      "outputs": [
        {
          "output_type": "execute_result",
          "data": {
            "text/plain": [
              "torch.Size([28, 28])"
            ]
          },
          "metadata": {},
          "execution_count": 5
        }
      ]
    },
    {
      "cell_type": "code",
      "source": [
        "x_0_tensor"
      ],
      "metadata": {
        "id": "G8at2UBbjcwl",
        "outputId": "29613854-91d0-44ad-d734-a62481e9fb3f",
        "colab": {
          "base_uri": "https://localhost:8080/"
        }
      },
      "execution_count": 6,
      "outputs": [
        {
          "output_type": "execute_result",
          "data": {
            "text/plain": [
              "tensor([[  0,   0,   0,   0,   0,   0,   0,   0,   0,   0,   0,   0,   0,   0,\n",
              "           0,   0,   0,   0,   0,   0,   0,   0,   0,   0,   0,   0,   0,   0],\n",
              "        [  0,   0,   0,   0,   0,   0,   0,   0,   0,   0,   0,   0,   0,   0,\n",
              "           0,   0,   0,   0,   0,   0,   0,   0,   0,   0,   0,   0,   0,   0],\n",
              "        [  0,   0,   0,   0,   0,   0,   0,   0,   0,   0,   0,   0,   0,   0,\n",
              "           0,   0,   0,   0,   0,   0,   0,   0,   0,   0,   0,   0,   0,   0],\n",
              "        [  0,   0,   0,   0,   0,   0,   0,   0,   0,   0,   0,   0,   1,   0,\n",
              "           0,  13,  73,   0,   0,   1,   4,   0,   0,   0,   0,   1,   1,   0],\n",
              "        [  0,   0,   0,   0,   0,   0,   0,   0,   0,   0,   0,   0,   3,   0,\n",
              "          36, 136, 127,  62,  54,   0,   0,   0,   1,   3,   4,   0,   0,   3],\n",
              "        [  0,   0,   0,   0,   0,   0,   0,   0,   0,   0,   0,   0,   6,   0,\n",
              "         102, 204, 176, 134, 144, 123,  23,   0,   0,   0,   0,  12,  10,   0],\n",
              "        [  0,   0,   0,   0,   0,   0,   0,   0,   0,   0,   0,   0,   0,   0,\n",
              "         155, 236, 207, 178, 107, 156, 161, 109,  64,  23,  77, 130,  72,  15],\n",
              "        [  0,   0,   0,   0,   0,   0,   0,   0,   0,   0,   0,   1,   0,  69,\n",
              "         207, 223, 218, 216, 216, 163, 127, 121, 122, 146, 141,  88, 172,  66],\n",
              "        [  0,   0,   0,   0,   0,   0,   0,   0,   0,   1,   1,   1,   0, 200,\n",
              "         232, 232, 233, 229, 223, 223, 215, 213, 164, 127, 123, 196, 229,   0],\n",
              "        [  0,   0,   0,   0,   0,   0,   0,   0,   0,   0,   0,   0,   0, 183,\n",
              "         225, 216, 223, 228, 235, 227, 224, 222, 224, 221, 223, 245, 173,   0],\n",
              "        [  0,   0,   0,   0,   0,   0,   0,   0,   0,   0,   0,   0,   0, 193,\n",
              "         228, 218, 213, 198, 180, 212, 210, 211, 213, 223, 220, 243, 202,   0],\n",
              "        [  0,   0,   0,   0,   0,   0,   0,   0,   0,   1,   3,   0,  12, 219,\n",
              "         220, 212, 218, 192, 169, 227, 208, 218, 224, 212, 226, 197, 209,  52],\n",
              "        [  0,   0,   0,   0,   0,   0,   0,   0,   0,   0,   6,   0,  99, 244,\n",
              "         222, 220, 218, 203, 198, 221, 215, 213, 222, 220, 245, 119, 167,  56],\n",
              "        [  0,   0,   0,   0,   0,   0,   0,   0,   0,   4,   0,   0,  55, 236,\n",
              "         228, 230, 228, 240, 232, 213, 218, 223, 234, 217, 217, 209,  92,   0],\n",
              "        [  0,   0,   1,   4,   6,   7,   2,   0,   0,   0,   0,   0, 237, 226,\n",
              "         217, 223, 222, 219, 222, 221, 216, 223, 229, 215, 218, 255,  77,   0],\n",
              "        [  0,   3,   0,   0,   0,   0,   0,   0,   0,  62, 145, 204, 228, 207,\n",
              "         213, 221, 218, 208, 211, 218, 224, 223, 219, 215, 224, 244, 159,   0],\n",
              "        [  0,   0,   0,   0,  18,  44,  82, 107, 189, 228, 220, 222, 217, 226,\n",
              "         200, 205, 211, 230, 224, 234, 176, 188, 250, 248, 233, 238, 215,   0],\n",
              "        [  0,  57, 187, 208, 224, 221, 224, 208, 204, 214, 208, 209, 200, 159,\n",
              "         245, 193, 206, 223, 255, 255, 221, 234, 221, 211, 220, 232, 246,   0],\n",
              "        [  3, 202, 228, 224, 221, 211, 211, 214, 205, 205, 205, 220, 240,  80,\n",
              "         150, 255, 229, 221, 188, 154, 191, 210, 204, 209, 222, 228, 225,   0],\n",
              "        [ 98, 233, 198, 210, 222, 229, 229, 234, 249, 220, 194, 215, 217, 241,\n",
              "          65,  73, 106, 117, 168, 219, 221, 215, 217, 223, 223, 224, 229,  29],\n",
              "        [ 75, 204, 212, 204, 193, 205, 211, 225, 216, 185, 197, 206, 198, 213,\n",
              "         240, 195, 227, 245, 239, 223, 218, 212, 209, 222, 220, 221, 230,  67],\n",
              "        [ 48, 203, 183, 194, 213, 197, 185, 190, 194, 192, 202, 214, 219, 221,\n",
              "         220, 236, 225, 216, 199, 206, 186, 181, 177, 172, 181, 205, 206, 115],\n",
              "        [  0, 122, 219, 193, 179, 171, 183, 196, 204, 210, 213, 207, 211, 210,\n",
              "         200, 196, 194, 191, 195, 191, 198, 192, 176, 156, 167, 177, 210,  92],\n",
              "        [  0,   0,  74, 189, 212, 191, 175, 172, 175, 181, 185, 188, 189, 188,\n",
              "         193, 198, 204, 209, 210, 210, 211, 188, 188, 194, 192, 216, 170,   0],\n",
              "        [  2,   0,   0,   0,  66, 200, 222, 237, 239, 242, 246, 243, 244, 221,\n",
              "         220, 193, 191, 179, 182, 182, 181, 176, 166, 168,  99,  58,   0,   0],\n",
              "        [  0,   0,   0,   0,   0,   0,   0,  40,  61,  44,  72,  41,  35,   0,\n",
              "           0,   0,   0,   0,   0,   0,   0,   0,   0,   0,   0,   0,   0,   0],\n",
              "        [  0,   0,   0,   0,   0,   0,   0,   0,   0,   0,   0,   0,   0,   0,\n",
              "           0,   0,   0,   0,   0,   0,   0,   0,   0,   0,   0,   0,   0,   0],\n",
              "        [  0,   0,   0,   0,   0,   0,   0,   0,   0,   0,   0,   0,   0,   0,\n",
              "           0,   0,   0,   0,   0,   0,   0,   0,   0,   0,   0,   0,   0,   0]],\n",
              "       dtype=torch.uint8)"
            ]
          },
          "metadata": {},
          "execution_count": 6
        }
      ]
    },
    {
      "cell_type": "markdown",
      "source": [
        "By default, a tensor is processed with a CPU. We can send our tensor to the device we identified at the start of this notebook. This way, our code will run much faster if a GPU is available."
      ],
      "metadata": {
        "id": "5F8QcgGLjtIB"
      }
    },
    {
      "cell_type": "code",
      "source": [
        "x_0_tensor.to(device).device"
      ],
      "metadata": {
        "id": "NPlpVMd1jt26",
        "outputId": "866aee34-a94a-4e0d-b59c-9053975e17d4",
        "colab": {
          "base_uri": "https://localhost:8080/"
        }
      },
      "execution_count": 7,
      "outputs": [
        {
          "output_type": "execute_result",
          "data": {
            "text/plain": [
              "device(type='cuda', index=0)"
            ]
          },
          "metadata": {},
          "execution_count": 7
        }
      ]
    },
    {
      "cell_type": "markdown",
      "source": [
        "# Create a Dataset\n",
        "Let's add the steps above into our `MyDataset` class."
      ],
      "metadata": {
        "id": "o2_6IMMyiVbL"
      }
    },
    {
      "cell_type": "code",
      "source": [
        "from torch.utils.data import Dataset, DataLoader\n",
        "\n",
        "class MyDataset(Dataset):\n",
        "    def __init__(self, images, labels):\n",
        "        # TODO: convert value of images to the range between 0 and 1\n",
        "        x = images/255\n",
        "        # TODO: Convert to tensor, convert tensor to floa, then copy the result to GPU\n",
        "        self.xs = torch.tensor(x).float().to(device)\n",
        "        # TODO: Convert labels to tensor, then copy it to GPU\n",
        "        self.ys = torch.tensor(labels).to(device)\n",
        "\n",
        "    def __getitem__(self, idx):\n",
        "        x = self.xs[idx]\n",
        "        y = self.ys[idx]\n",
        "        return x, y\n",
        "\n",
        "    def __len__(self):\n",
        "        return len(self.xs)"
      ],
      "metadata": {
        "id": "-0UrMr6liV2I"
      },
      "execution_count": 10,
      "outputs": []
    },
    {
      "cell_type": "markdown",
      "source": [
        "# DataLoaders\n",
        "If our dataset is a deck of flash cards, a [DataLoader](https://pytorch.org/tutorials/beginner/basics/data_tutorial.html#preparing-your-data-for-training-with-dataloaders) defines how we pull cards from the deck to train an AI model. We could show our models the entire dataset at once. Not only does this take a lot of computational resources, but [research shows](https://arxiv.org/pdf/1804.07612) using a smaller batch of data is more efficient for model training.\n",
        "\n",
        "For example, if our `batch_size` is 32, we will train our model by shuffling the deck and drawing 32 cards. We do not need to shuffle for validation as the model is not learning, but we will still use a `batch_size` to prevent memory errors.\n",
        "\n",
        "The batch size is something the model developer decides, and the best value will depend on the problem being solved. Research shows 32 or 64 is sufficient for many machine learning problems and is the default in some machine learning frameworks, so we will use 32 here."
      ],
      "metadata": {
        "id": "r-7_qnoueVmF"
      }
    },
    {
      "cell_type": "code",
      "source": [
        "from torch.utils.data import Dataset, DataLoader\n",
        "\n",
        "BATCH_SIZE = 32\n",
        "\n",
        "train_data = MyDataset(train_images, train_labels)\n",
        "train_loader = DataLoader(train_data, batch_size=BATCH_SIZE, shuffle=True)\n",
        "train_N = len(train_loader.dataset)\n",
        "\n",
        "# TODO: Do the same with validation set\n",
        "valid_set = MyDataset(valid_images, valid_labels)\n",
        "valid_loader = DataLoader(valid_set, batch_size=BATCH_SIZE)\n",
        "valid_N = len(valid_loader.dataset)"
      ],
      "metadata": {
        "id": "dnILmXZmee-q"
      },
      "execution_count": 11,
      "outputs": []
    },
    {
      "cell_type": "markdown",
      "metadata": {
        "id": "GclmFak2s54y"
      },
      "source": [
        "# Model\n",
        "It's time to build the model! Neural networks are composed of layers where each layer performs a mathematical operation on the data it receives before passing it to the next layer. To start, we will create a \"Hello World\" level model made from 4 components:\n",
        "\n",
        "1. A [Flatten](https://pytorch.org/docs/stable/generated/torch.nn.Flatten.html) used to convert n-dimensional data into a vector.\n",
        "2. An input layer, the first layer of neurons\n",
        "3. A hidden layer, another layor of neurons \"hidden\" between the input and output\n",
        "4. An output layer, the last set of neurons which returns the final prediction from the model\n",
        "\n",
        "More information about these layers is available in [this blog post](https://medium.com/@sarita_68521/basic-understanding-of-neural-network-structure-eecc8f149a23) by Sarita.\n",
        "\n",
        "Let's create a `layers` variable to hold our list of layers."
      ]
    },
    {
      "cell_type": "code",
      "execution_count": 12,
      "metadata": {
        "id": "2Sc9NCoJfBh0"
      },
      "outputs": [],
      "source": [
        "import torch.nn as nn\n",
        "\n",
        "input_size = 784\n",
        "n_classes = 10\n",
        "\n",
        "# TODO: Design this network: Input -> 64 neurons -> ReLU -> 64 neurons -> ReLU -> Output\n",
        "model = nn.Sequential(\n",
        "    nn.Flatten(),\n",
        "    nn.Linear(input_size, 64), # Input\n",
        "    nn.ReLU(), # Activation for Input\n",
        "    nn.Linear(64, 64), # Hidden\n",
        "    nn.ReLU(), # Activation for Hidden\n",
        "    nn.Linear(64, n_classes) # Output\n",
        ")"
      ]
    },
    {
      "cell_type": "markdown",
      "source": [
        "Much like tensors, when the model is first initialized, it will be processed on a CPU. To have it process with a GPU, we can use `to(device)`.\n",
        "[PyTorch 2.0](https://pytorch.org/get-started/pytorch-2.0/) introduced the ability to compile a model for faster performance. Learn more about it [here](https://pytorch.org/tutorials/intermediate/torch_compile_tutorial.html)."
      ],
      "metadata": {
        "id": "JKZobQTSfjW2"
      }
    },
    {
      "cell_type": "code",
      "source": [
        "model = torch.compile(model.to(device))\n",
        "model"
      ],
      "metadata": {
        "id": "3sX8zZCCgJ58",
        "outputId": "bf0b9b1c-db41-475f-9a3f-811c23e65f3a",
        "colab": {
          "base_uri": "https://localhost:8080/"
        }
      },
      "execution_count": 13,
      "outputs": [
        {
          "output_type": "execute_result",
          "data": {
            "text/plain": [
              "OptimizedModule(\n",
              "  (_orig_mod): Sequential(\n",
              "    (0): Flatten(start_dim=1, end_dim=-1)\n",
              "    (1): Linear(in_features=784, out_features=64, bias=True)\n",
              "    (2): ReLU()\n",
              "    (3): Linear(in_features=64, out_features=64, bias=True)\n",
              "    (4): ReLU()\n",
              "    (5): Linear(in_features=64, out_features=10, bias=True)\n",
              "  )\n",
              ")"
            ]
          },
          "metadata": {},
          "execution_count": 13
        }
      ]
    },
    {
      "cell_type": "markdown",
      "metadata": {
        "id": "z4vQf0hkfBiA"
      },
      "source": [
        "## Loss, optimization and compilation"
      ]
    },
    {
      "cell_type": "code",
      "execution_count": 14,
      "metadata": {
        "collapsed": true,
        "id": "rWwxSa0ZfBiC"
      },
      "outputs": [],
      "source": [
        "from torch.optim import Adam\n",
        "\n",
        "# Loss\n",
        "loss_function = nn.CrossEntropyLoss() # we use this cross entropy variant as the input is not\n",
        "                                       # one-hot encoded\n",
        "\n",
        "# Optimizer\n",
        "optimizer = Adam(model.parameters()) # A \"smart\" SGD variant"
      ]
    },
    {
      "cell_type": "markdown",
      "source": [
        "We'll make a function to calculate the accuracy for each batch. The result is a fraction of the total accuracy, so we can add the accuracy of each batch together to get the total.\n",
        "\n"
      ],
      "metadata": {
        "id": "WETKjgInhKii"
      }
    },
    {
      "cell_type": "code",
      "source": [
        "def get_batch_accuracy(output, y, N):\n",
        "    pred = output.argmax(dim=1, keepdim=True)\n",
        "    correct = pred.eq(y.view_as(pred)).sum().item()\n",
        "    return correct / N"
      ],
      "metadata": {
        "id": "B218KqH4g8dj"
      },
      "execution_count": 15,
      "outputs": []
    },
    {
      "cell_type": "markdown",
      "metadata": {
        "id": "plYKl2O-fBiV"
      },
      "source": [
        "## Training"
      ]
    },
    {
      "cell_type": "code",
      "source": [
        "def save(history, loss, accuracy):\n",
        "    if 'loss' not in history:\n",
        "        history['loss'] = []\n",
        "\n",
        "    if 'accuracy' not in history:\n",
        "        history['accuracy'] = []\n",
        "\n",
        "    history['loss'].append(loss)\n",
        "    history['accuracy'].append(accuracy)"
      ],
      "metadata": {
        "id": "3MBdbWZK74-9"
      },
      "execution_count": 16,
      "outputs": []
    },
    {
      "cell_type": "markdown",
      "source": [
        "Below is the function we've defined to train our model based on the training data."
      ],
      "metadata": {
        "id": "0Jfy76-ZhWOH"
      }
    },
    {
      "cell_type": "code",
      "source": [
        "def train(history):\n",
        "    loss = 0\n",
        "    accuracy = 0\n",
        "\n",
        "    # Tells your model that you are training the model. This helps inform layers such as Dropout and BatchNorm,\n",
        "    # which are designed to behave differently during training and evaluation.\n",
        "    model.train()\n",
        "    for x, y in train_loader:\n",
        "        # TODO: Copy x, y to GPU\n",
        "        x, y = x.to(device), y.to(device)\n",
        "        # Calculate y_hat in a forward pass\n",
        "        output = model(x)\n",
        "        # For every mini-batch during the training phase, we typically want to explicitly set the\n",
        "        # gradients to zero before starting to do backpropagation (i.e., updating the Weights and biases)\n",
        "        # because PyTorch accumulates the gradients on subsequent backward passes\n",
        "        optimizer.zero_grad()\n",
        "        # Calculate loss from y and y_hat\n",
        "        batch_loss = loss_function(output, y)\n",
        "        # Calculate the gradient during the backward pass in the neural network\n",
        "        batch_loss.backward()\n",
        "        # Perform a single optimization step to update parameter\n",
        "        optimizer.step()\n",
        "\n",
        "        loss += batch_loss.item()\n",
        "        accuracy += get_batch_accuracy(output, y, train_N)\n",
        "\n",
        "    print('loss: {:.4f} - accuracy: {:.4f}'.format(loss, accuracy), end='')\n",
        "    save(history, loss, accuracy)"
      ],
      "metadata": {
        "id": "Zib_xTv-hTD9"
      },
      "execution_count": 17,
      "outputs": []
    },
    {
      "cell_type": "markdown",
      "source": [
        "Similarly, this is the code for validating the model with data it did not train on."
      ],
      "metadata": {
        "id": "SSJtbpjmhdjN"
      }
    },
    {
      "cell_type": "code",
      "source": [
        "def validate(history):\n",
        "    loss = 0\n",
        "    accuracy = 0\n",
        "\n",
        "    model.eval()\n",
        "    with torch.no_grad():\n",
        "        for x, y in valid_loader:\n",
        "            x, y = x.to(device), y.to(device)\n",
        "            output = model(x)\n",
        "\n",
        "            loss += loss_function(output, y).item()\n",
        "            accuracy += get_batch_accuracy(output, y, valid_N)\n",
        "\n",
        "    print(' - val_loss: {:.4f} - val_accuracy: {:.4f}'.format(loss, accuracy))\n",
        "    save(history, loss, accuracy)"
      ],
      "metadata": {
        "id": "WdhYrP1HhT0W"
      },
      "execution_count": 18,
      "outputs": []
    },
    {
      "cell_type": "markdown",
      "source": [
        "To see how the model is progressing, we will alternated between training and validation. Just like how it might take a student a few times going through their deck of flash cards to learn all the concepts, the model will go through the training data multiple times to get a better and better understanding.\n",
        "\n",
        "An epoch is one complete pass through the entire dataset. Let's train and validate the model for 10 epochs to see how it learns."
      ],
      "metadata": {
        "id": "efMrbnl3hpor"
      }
    },
    {
      "cell_type": "code",
      "source": [
        "!pip install triton"
      ],
      "metadata": {
        "id": "mv4SuUIzpMvA",
        "outputId": "bacdd7d7-16dc-4f16-c968-d2c00b67d8e9",
        "colab": {
          "base_uri": "https://localhost:8080/"
        }
      },
      "execution_count": 20,
      "outputs": [
        {
          "output_type": "stream",
          "name": "stdout",
          "text": [
            "Collecting triton\n",
            "  Downloading triton-3.1.0-cp310-cp310-manylinux_2_17_x86_64.manylinux2014_x86_64.whl.metadata (1.3 kB)\n",
            "Requirement already satisfied: filelock in /usr/local/lib/python3.10/dist-packages (from triton) (3.16.1)\n",
            "Downloading triton-3.1.0-cp310-cp310-manylinux_2_17_x86_64.manylinux2014_x86_64.whl (209.5 MB)\n",
            "\u001b[2K   \u001b[90m━━━━━━━━━━━━━━━━━━━━━━━━━━━━━━━━━━━━━━━━\u001b[0m \u001b[32m209.5/209.5 MB\u001b[0m \u001b[31m5.9 MB/s\u001b[0m eta \u001b[36m0:00:00\u001b[0m\n",
            "\u001b[?25hInstalling collected packages: triton\n",
            "Successfully installed triton-3.1.0\n"
          ]
        }
      ]
    },
    {
      "cell_type": "code",
      "source": [
        "import torch._dynamo\n",
        "torch._dynamo.config.suppress_errors = True"
      ],
      "metadata": {
        "id": "Z_t4FFYfpSB9"
      },
      "execution_count": 21,
      "outputs": []
    },
    {
      "cell_type": "code",
      "execution_count": 22,
      "metadata": {
        "colab": {
          "base_uri": "https://localhost:8080/"
        },
        "id": "3J86Uf8cfBiX",
        "outputId": "d650c15a-428c-4cad-c33b-a894dd49949d"
      },
      "outputs": [
        {
          "output_type": "stream",
          "name": "stdout",
          "text": [
            "Epoch: 0\n"
          ]
        },
        {
          "output_type": "stream",
          "name": "stderr",
          "text": [
            "W1202 09:13:14.485000 981 torch/_dynamo/convert_frame.py:1125] WON'T CONVERT inner /usr/local/lib/python3.10/dist-packages/torch/_dynamo/external_utils.py line 38 \n",
            "W1202 09:13:14.485000 981 torch/_dynamo/convert_frame.py:1125] due to: \n",
            "W1202 09:13:14.485000 981 torch/_dynamo/convert_frame.py:1125] Traceback (most recent call last):\n",
            "W1202 09:13:14.485000 981 torch/_dynamo/convert_frame.py:1125]   File \"/usr/local/lib/python3.10/dist-packages/torch/_dynamo/output_graph.py\", line 1446, in _call_user_compiler\n",
            "W1202 09:13:14.485000 981 torch/_dynamo/convert_frame.py:1125]     compiled_fn = compiler_fn(gm, self.example_inputs())\n",
            "W1202 09:13:14.485000 981 torch/_dynamo/convert_frame.py:1125]   File \"/usr/local/lib/python3.10/dist-packages/torch/_dynamo/repro/after_dynamo.py\", line 129, in __call__\n",
            "W1202 09:13:14.485000 981 torch/_dynamo/convert_frame.py:1125]     compiled_gm = compiler_fn(gm, example_inputs)\n",
            "W1202 09:13:14.485000 981 torch/_dynamo/convert_frame.py:1125]   File \"/usr/local/lib/python3.10/dist-packages/torch/__init__.py\", line 2234, in __call__\n",
            "W1202 09:13:14.485000 981 torch/_dynamo/convert_frame.py:1125]     return compile_fx(model_, inputs_, config_patches=self.config)\n",
            "W1202 09:13:14.485000 981 torch/_dynamo/convert_frame.py:1125]   File \"/usr/local/lib/python3.10/dist-packages/torch/_inductor/compile_fx.py\", line 1521, in compile_fx\n",
            "W1202 09:13:14.485000 981 torch/_dynamo/convert_frame.py:1125]     return aot_autograd(\n",
            "W1202 09:13:14.485000 981 torch/_dynamo/convert_frame.py:1125]   File \"/usr/local/lib/python3.10/dist-packages/torch/_dynamo/backends/common.py\", line 72, in __call__\n",
            "W1202 09:13:14.485000 981 torch/_dynamo/convert_frame.py:1125]     cg = aot_module_simplified(gm, example_inputs, **self.kwargs)\n",
            "W1202 09:13:14.485000 981 torch/_dynamo/convert_frame.py:1125]   File \"/usr/local/lib/python3.10/dist-packages/torch/_functorch/aot_autograd.py\", line 1071, in aot_module_simplified\n",
            "W1202 09:13:14.485000 981 torch/_dynamo/convert_frame.py:1125]     compiled_fn = dispatch_and_compile()\n",
            "W1202 09:13:14.485000 981 torch/_dynamo/convert_frame.py:1125]   File \"/usr/local/lib/python3.10/dist-packages/torch/_functorch/aot_autograd.py\", line 1056, in dispatch_and_compile\n",
            "W1202 09:13:14.485000 981 torch/_dynamo/convert_frame.py:1125]     compiled_fn, _ = create_aot_dispatcher_function(\n",
            "W1202 09:13:14.485000 981 torch/_dynamo/convert_frame.py:1125]   File \"/usr/local/lib/python3.10/dist-packages/torch/_functorch/aot_autograd.py\", line 522, in create_aot_dispatcher_function\n",
            "W1202 09:13:14.485000 981 torch/_dynamo/convert_frame.py:1125]     return _create_aot_dispatcher_function(\n",
            "W1202 09:13:14.485000 981 torch/_dynamo/convert_frame.py:1125]   File \"/usr/local/lib/python3.10/dist-packages/torch/_functorch/aot_autograd.py\", line 759, in _create_aot_dispatcher_function\n",
            "W1202 09:13:14.485000 981 torch/_dynamo/convert_frame.py:1125]     compiled_fn, fw_metadata = compiler_fn(\n",
            "W1202 09:13:14.485000 981 torch/_dynamo/convert_frame.py:1125]   File \"/usr/local/lib/python3.10/dist-packages/torch/_functorch/_aot_autograd/jit_compile_runtime_wrappers.py\", line 588, in aot_dispatch_autograd\n",
            "W1202 09:13:14.485000 981 torch/_dynamo/convert_frame.py:1125]     compiled_fw_func = aot_config.fw_compiler(fw_module, adjusted_flat_args)\n",
            "W1202 09:13:14.485000 981 torch/_dynamo/convert_frame.py:1125]   File \"/usr/local/lib/python3.10/dist-packages/torch/_inductor/compile_fx.py\", line 1350, in fw_compiler_base\n",
            "W1202 09:13:14.485000 981 torch/_dynamo/convert_frame.py:1125]     return _fw_compiler_base(model, example_inputs, is_inference)\n",
            "W1202 09:13:14.485000 981 torch/_dynamo/convert_frame.py:1125]   File \"/usr/local/lib/python3.10/dist-packages/torch/_inductor/compile_fx.py\", line 1421, in _fw_compiler_base\n",
            "W1202 09:13:14.485000 981 torch/_dynamo/convert_frame.py:1125]     return inner_compile(\n",
            "W1202 09:13:14.485000 981 torch/_dynamo/convert_frame.py:1125]   File \"/usr/local/lib/python3.10/dist-packages/torch/_inductor/compile_fx.py\", line 475, in compile_fx_inner\n",
            "W1202 09:13:14.485000 981 torch/_dynamo/convert_frame.py:1125]     return wrap_compiler_debug(_compile_fx_inner, compiler_name=\"inductor\")(\n",
            "W1202 09:13:14.485000 981 torch/_dynamo/convert_frame.py:1125]   File \"/usr/local/lib/python3.10/dist-packages/torch/_dynamo/repro/after_aot.py\", line 85, in debug_wrapper\n",
            "W1202 09:13:14.485000 981 torch/_dynamo/convert_frame.py:1125]     inner_compiled_fn = compiler_fn(gm, example_inputs)\n",
            "W1202 09:13:14.485000 981 torch/_dynamo/convert_frame.py:1125]   File \"/usr/local/lib/python3.10/dist-packages/torch/_inductor/compile_fx.py\", line 661, in _compile_fx_inner\n",
            "W1202 09:13:14.485000 981 torch/_dynamo/convert_frame.py:1125]     compiled_graph = FxGraphCache.load(\n",
            "W1202 09:13:14.485000 981 torch/_dynamo/convert_frame.py:1125]   File \"/usr/local/lib/python3.10/dist-packages/torch/_inductor/codecache.py\", line 1334, in load\n",
            "W1202 09:13:14.485000 981 torch/_dynamo/convert_frame.py:1125]     compiled_graph = compile_fx_fn(\n",
            "W1202 09:13:14.485000 981 torch/_dynamo/convert_frame.py:1125]   File \"/usr/local/lib/python3.10/dist-packages/torch/_inductor/compile_fx.py\", line 570, in codegen_and_compile\n",
            "W1202 09:13:14.485000 981 torch/_dynamo/convert_frame.py:1125]     compiled_graph = fx_codegen_and_compile(gm, example_inputs, **fx_kwargs)\n",
            "W1202 09:13:14.485000 981 torch/_dynamo/convert_frame.py:1125]   File \"/usr/local/lib/python3.10/dist-packages/torch/_inductor/compile_fx.py\", line 878, in fx_codegen_and_compile\n",
            "W1202 09:13:14.485000 981 torch/_dynamo/convert_frame.py:1125]     compiled_fn = graph.compile_to_fn()\n",
            "W1202 09:13:14.485000 981 torch/_dynamo/convert_frame.py:1125]   File \"/usr/local/lib/python3.10/dist-packages/torch/_inductor/graph.py\", line 1913, in compile_to_fn\n",
            "W1202 09:13:14.485000 981 torch/_dynamo/convert_frame.py:1125]     return self.compile_to_module().call\n",
            "W1202 09:13:14.485000 981 torch/_dynamo/convert_frame.py:1125]   File \"/usr/local/lib/python3.10/dist-packages/torch/_inductor/graph.py\", line 1839, in compile_to_module\n",
            "W1202 09:13:14.485000 981 torch/_dynamo/convert_frame.py:1125]     return self._compile_to_module()\n",
            "W1202 09:13:14.485000 981 torch/_dynamo/convert_frame.py:1125]   File \"/usr/local/lib/python3.10/dist-packages/torch/_inductor/graph.py\", line 1845, in _compile_to_module\n",
            "W1202 09:13:14.485000 981 torch/_dynamo/convert_frame.py:1125]     self.codegen_with_cpp_wrapper() if self.cpp_wrapper else self.codegen()\n",
            "W1202 09:13:14.485000 981 torch/_dynamo/convert_frame.py:1125]   File \"/usr/local/lib/python3.10/dist-packages/torch/_inductor/graph.py\", line 1780, in codegen\n",
            "W1202 09:13:14.485000 981 torch/_dynamo/convert_frame.py:1125]     self.scheduler = Scheduler(self.operations)\n",
            "W1202 09:13:14.485000 981 torch/_dynamo/convert_frame.py:1125]   File \"/usr/local/lib/python3.10/dist-packages/torch/_inductor/scheduler.py\", line 1731, in __init__\n",
            "W1202 09:13:14.485000 981 torch/_dynamo/convert_frame.py:1125]     self._init(nodes)\n",
            "W1202 09:13:14.485000 981 torch/_dynamo/convert_frame.py:1125]   File \"/usr/local/lib/python3.10/dist-packages/torch/_inductor/scheduler.py\", line 1749, in _init\n",
            "W1202 09:13:14.485000 981 torch/_dynamo/convert_frame.py:1125]     self.nodes = [self.create_scheduler_node(n) for n in nodes]\n",
            "W1202 09:13:14.485000 981 torch/_dynamo/convert_frame.py:1125]   File \"/usr/local/lib/python3.10/dist-packages/torch/_inductor/scheduler.py\", line 1749, in <listcomp>\n",
            "W1202 09:13:14.485000 981 torch/_dynamo/convert_frame.py:1125]     self.nodes = [self.create_scheduler_node(n) for n in nodes]\n",
            "W1202 09:13:14.485000 981 torch/_dynamo/convert_frame.py:1125]   File \"/usr/local/lib/python3.10/dist-packages/torch/_inductor/scheduler.py\", line 1856, in create_scheduler_node\n",
            "W1202 09:13:14.485000 981 torch/_dynamo/convert_frame.py:1125]     return SchedulerNode(self, node)\n",
            "W1202 09:13:14.485000 981 torch/_dynamo/convert_frame.py:1125]   File \"/usr/local/lib/python3.10/dist-packages/torch/_inductor/scheduler.py\", line 833, in __init__\n",
            "W1202 09:13:14.485000 981 torch/_dynamo/convert_frame.py:1125]     self._compute_attrs()\n",
            "W1202 09:13:14.485000 981 torch/_dynamo/convert_frame.py:1125]   File \"/usr/local/lib/python3.10/dist-packages/torch/_inductor/scheduler.py\", line 846, in _compute_attrs\n",
            "W1202 09:13:14.485000 981 torch/_dynamo/convert_frame.py:1125]     group_fn = self.scheduler.get_backend(self.node.get_device()).group_fn\n",
            "W1202 09:13:14.485000 981 torch/_dynamo/convert_frame.py:1125]   File \"/usr/local/lib/python3.10/dist-packages/torch/_inductor/scheduler.py\", line 3360, in get_backend\n",
            "W1202 09:13:14.485000 981 torch/_dynamo/convert_frame.py:1125]     self.backends[device] = self.create_backend(device)\n",
            "W1202 09:13:14.485000 981 torch/_dynamo/convert_frame.py:1125]   File \"/usr/local/lib/python3.10/dist-packages/torch/_inductor/scheduler.py\", line 3352, in create_backend\n",
            "W1202 09:13:14.485000 981 torch/_dynamo/convert_frame.py:1125]     raise RuntimeError(\n",
            "W1202 09:13:14.485000 981 torch/_dynamo/convert_frame.py:1125] RuntimeError: Cannot find a working triton installation. Either the package is not installed or it is too old. More information on installing Triton can be found at https://github.com/openai/triton\n",
            "W1202 09:13:14.485000 981 torch/_dynamo/convert_frame.py:1125] \n",
            "W1202 09:13:14.485000 981 torch/_dynamo/convert_frame.py:1125] The above exception was the direct cause of the following exception:\n",
            "W1202 09:13:14.485000 981 torch/_dynamo/convert_frame.py:1125] \n",
            "W1202 09:13:14.485000 981 torch/_dynamo/convert_frame.py:1125] Traceback (most recent call last):\n",
            "W1202 09:13:14.485000 981 torch/_dynamo/convert_frame.py:1125]   File \"/usr/local/lib/python3.10/dist-packages/torch/_dynamo/convert_frame.py\", line 1064, in __call__\n",
            "W1202 09:13:14.485000 981 torch/_dynamo/convert_frame.py:1125]     result = self._inner_convert(\n",
            "W1202 09:13:14.485000 981 torch/_dynamo/convert_frame.py:1125]   File \"/usr/local/lib/python3.10/dist-packages/torch/_dynamo/convert_frame.py\", line 526, in __call__\n",
            "W1202 09:13:14.485000 981 torch/_dynamo/convert_frame.py:1125]     return _compile(\n",
            "W1202 09:13:14.485000 981 torch/_dynamo/convert_frame.py:1125]   File \"/usr/local/lib/python3.10/dist-packages/torch/_dynamo/convert_frame.py\", line 924, in _compile\n",
            "W1202 09:13:14.485000 981 torch/_dynamo/convert_frame.py:1125]     guarded_code = compile_inner(code, one_graph, hooks, transform)\n",
            "W1202 09:13:14.485000 981 torch/_dynamo/convert_frame.py:1125]   File \"/usr/local/lib/python3.10/dist-packages/torch/_dynamo/convert_frame.py\", line 666, in compile_inner\n",
            "W1202 09:13:14.485000 981 torch/_dynamo/convert_frame.py:1125]     return _compile_inner(code, one_graph, hooks, transform)\n",
            "W1202 09:13:14.485000 981 torch/_dynamo/convert_frame.py:1125]   File \"/usr/local/lib/python3.10/dist-packages/torch/_utils_internal.py\", line 87, in wrapper_function\n",
            "W1202 09:13:14.485000 981 torch/_dynamo/convert_frame.py:1125]     return function(*args, **kwargs)\n",
            "W1202 09:13:14.485000 981 torch/_dynamo/convert_frame.py:1125]   File \"/usr/local/lib/python3.10/dist-packages/torch/_dynamo/convert_frame.py\", line 699, in _compile_inner\n",
            "W1202 09:13:14.485000 981 torch/_dynamo/convert_frame.py:1125]     out_code = transform_code_object(code, transform)\n",
            "W1202 09:13:14.485000 981 torch/_dynamo/convert_frame.py:1125]   File \"/usr/local/lib/python3.10/dist-packages/torch/_dynamo/bytecode_transformation.py\", line 1322, in transform_code_object\n",
            "W1202 09:13:14.485000 981 torch/_dynamo/convert_frame.py:1125]     transformations(instructions, code_options)\n",
            "W1202 09:13:14.485000 981 torch/_dynamo/convert_frame.py:1125]   File \"/usr/local/lib/python3.10/dist-packages/torch/_dynamo/convert_frame.py\", line 219, in _fn\n",
            "W1202 09:13:14.485000 981 torch/_dynamo/convert_frame.py:1125]     return fn(*args, **kwargs)\n",
            "W1202 09:13:14.485000 981 torch/_dynamo/convert_frame.py:1125]   File \"/usr/local/lib/python3.10/dist-packages/torch/_dynamo/convert_frame.py\", line 634, in transform\n",
            "W1202 09:13:14.485000 981 torch/_dynamo/convert_frame.py:1125]     tracer.run()\n",
            "W1202 09:13:14.485000 981 torch/_dynamo/convert_frame.py:1125]   File \"/usr/local/lib/python3.10/dist-packages/torch/_dynamo/symbolic_convert.py\", line 2796, in run\n",
            "W1202 09:13:14.485000 981 torch/_dynamo/convert_frame.py:1125]     super().run()\n",
            "W1202 09:13:14.485000 981 torch/_dynamo/convert_frame.py:1125]   File \"/usr/local/lib/python3.10/dist-packages/torch/_dynamo/symbolic_convert.py\", line 983, in run\n",
            "W1202 09:13:14.485000 981 torch/_dynamo/convert_frame.py:1125]     while self.step():\n",
            "W1202 09:13:14.485000 981 torch/_dynamo/convert_frame.py:1125]   File \"/usr/local/lib/python3.10/dist-packages/torch/_dynamo/symbolic_convert.py\", line 895, in step\n",
            "W1202 09:13:14.485000 981 torch/_dynamo/convert_frame.py:1125]     self.dispatch_table[inst.opcode](self, inst)\n",
            "W1202 09:13:14.485000 981 torch/_dynamo/convert_frame.py:1125]   File \"/usr/local/lib/python3.10/dist-packages/torch/_dynamo/symbolic_convert.py\", line 2987, in RETURN_VALUE\n",
            "W1202 09:13:14.485000 981 torch/_dynamo/convert_frame.py:1125]     self._return(inst)\n",
            "W1202 09:13:14.485000 981 torch/_dynamo/convert_frame.py:1125]   File \"/usr/local/lib/python3.10/dist-packages/torch/_dynamo/symbolic_convert.py\", line 2972, in _return\n",
            "W1202 09:13:14.485000 981 torch/_dynamo/convert_frame.py:1125]     self.output.compile_subgraph(\n",
            "W1202 09:13:14.485000 981 torch/_dynamo/convert_frame.py:1125]   File \"/usr/local/lib/python3.10/dist-packages/torch/_dynamo/output_graph.py\", line 1117, in compile_subgraph\n",
            "W1202 09:13:14.485000 981 torch/_dynamo/convert_frame.py:1125]     self.compile_and_call_fx_graph(tx, list(reversed(stack_values)), root)\n",
            "W1202 09:13:14.485000 981 torch/_dynamo/convert_frame.py:1125]   File \"/usr/local/lib/python3.10/dist-packages/torch/_dynamo/output_graph.py\", line 1369, in compile_and_call_fx_graph\n",
            "W1202 09:13:14.485000 981 torch/_dynamo/convert_frame.py:1125]     compiled_fn = self.call_user_compiler(gm)\n",
            "W1202 09:13:14.485000 981 torch/_dynamo/convert_frame.py:1125]   File \"/usr/local/lib/python3.10/dist-packages/torch/_dynamo/output_graph.py\", line 1416, in call_user_compiler\n",
            "W1202 09:13:14.485000 981 torch/_dynamo/convert_frame.py:1125]     return self._call_user_compiler(gm)\n",
            "W1202 09:13:14.485000 981 torch/_dynamo/convert_frame.py:1125]   File \"/usr/local/lib/python3.10/dist-packages/torch/_dynamo/output_graph.py\", line 1465, in _call_user_compiler\n",
            "W1202 09:13:14.485000 981 torch/_dynamo/convert_frame.py:1125]     raise BackendCompilerFailed(self.compiler_fn, e) from e\n",
            "W1202 09:13:14.485000 981 torch/_dynamo/convert_frame.py:1125] torch._dynamo.exc.BackendCompilerFailed: backend='inductor' raised:\n",
            "W1202 09:13:14.485000 981 torch/_dynamo/convert_frame.py:1125] RuntimeError: Cannot find a working triton installation. Either the package is not installed or it is too old. More information on installing Triton can be found at https://github.com/openai/triton\n",
            "W1202 09:13:14.485000 981 torch/_dynamo/convert_frame.py:1125] \n",
            "W1202 09:13:14.485000 981 torch/_dynamo/convert_frame.py:1125] Set TORCH_LOGS=\"+dynamo\" and TORCHDYNAMO_VERBOSE=1 for more information\n",
            "W1202 09:13:14.485000 981 torch/_dynamo/convert_frame.py:1125] \n",
            "W1202 09:13:14.485000 981 torch/_dynamo/convert_frame.py:1125] Traceback (most recent call last):\n",
            "W1202 09:13:14.485000 981 torch/_dynamo/convert_frame.py:1125]   File \"/usr/local/lib/python3.10/dist-packages/torch/_dynamo/output_graph.py\", line 1446, in _call_user_compiler\n",
            "W1202 09:13:14.485000 981 torch/_dynamo/convert_frame.py:1125]     compiled_fn = compiler_fn(gm, self.example_inputs())\n",
            "W1202 09:13:14.485000 981 torch/_dynamo/convert_frame.py:1125]   File \"/usr/local/lib/python3.10/dist-packages/torch/_dynamo/repro/after_dynamo.py\", line 129, in __call__\n",
            "W1202 09:13:14.485000 981 torch/_dynamo/convert_frame.py:1125]     compiled_gm = compiler_fn(gm, example_inputs)\n",
            "W1202 09:13:14.485000 981 torch/_dynamo/convert_frame.py:1125]   File \"/usr/local/lib/python3.10/dist-packages/torch/__init__.py\", line 2234, in __call__\n",
            "W1202 09:13:14.485000 981 torch/_dynamo/convert_frame.py:1125]     return compile_fx(model_, inputs_, config_patches=self.config)\n",
            "W1202 09:13:14.485000 981 torch/_dynamo/convert_frame.py:1125]   File \"/usr/local/lib/python3.10/dist-packages/torch/_inductor/compile_fx.py\", line 1521, in compile_fx\n",
            "W1202 09:13:14.485000 981 torch/_dynamo/convert_frame.py:1125]     return aot_autograd(\n",
            "W1202 09:13:14.485000 981 torch/_dynamo/convert_frame.py:1125]   File \"/usr/local/lib/python3.10/dist-packages/torch/_dynamo/backends/common.py\", line 72, in __call__\n",
            "W1202 09:13:14.485000 981 torch/_dynamo/convert_frame.py:1125]     cg = aot_module_simplified(gm, example_inputs, **self.kwargs)\n",
            "W1202 09:13:14.485000 981 torch/_dynamo/convert_frame.py:1125]   File \"/usr/local/lib/python3.10/dist-packages/torch/_functorch/aot_autograd.py\", line 1071, in aot_module_simplified\n",
            "W1202 09:13:14.485000 981 torch/_dynamo/convert_frame.py:1125]     compiled_fn = dispatch_and_compile()\n",
            "W1202 09:13:14.485000 981 torch/_dynamo/convert_frame.py:1125]   File \"/usr/local/lib/python3.10/dist-packages/torch/_functorch/aot_autograd.py\", line 1056, in dispatch_and_compile\n",
            "W1202 09:13:14.485000 981 torch/_dynamo/convert_frame.py:1125]     compiled_fn, _ = create_aot_dispatcher_function(\n",
            "W1202 09:13:14.485000 981 torch/_dynamo/convert_frame.py:1125]   File \"/usr/local/lib/python3.10/dist-packages/torch/_functorch/aot_autograd.py\", line 522, in create_aot_dispatcher_function\n",
            "W1202 09:13:14.485000 981 torch/_dynamo/convert_frame.py:1125]     return _create_aot_dispatcher_function(\n",
            "W1202 09:13:14.485000 981 torch/_dynamo/convert_frame.py:1125]   File \"/usr/local/lib/python3.10/dist-packages/torch/_functorch/aot_autograd.py\", line 759, in _create_aot_dispatcher_function\n",
            "W1202 09:13:14.485000 981 torch/_dynamo/convert_frame.py:1125]     compiled_fn, fw_metadata = compiler_fn(\n",
            "W1202 09:13:14.485000 981 torch/_dynamo/convert_frame.py:1125]   File \"/usr/local/lib/python3.10/dist-packages/torch/_functorch/_aot_autograd/jit_compile_runtime_wrappers.py\", line 588, in aot_dispatch_autograd\n",
            "W1202 09:13:14.485000 981 torch/_dynamo/convert_frame.py:1125]     compiled_fw_func = aot_config.fw_compiler(fw_module, adjusted_flat_args)\n",
            "W1202 09:13:14.485000 981 torch/_dynamo/convert_frame.py:1125]   File \"/usr/local/lib/python3.10/dist-packages/torch/_inductor/compile_fx.py\", line 1350, in fw_compiler_base\n",
            "W1202 09:13:14.485000 981 torch/_dynamo/convert_frame.py:1125]     return _fw_compiler_base(model, example_inputs, is_inference)\n",
            "W1202 09:13:14.485000 981 torch/_dynamo/convert_frame.py:1125]   File \"/usr/local/lib/python3.10/dist-packages/torch/_inductor/compile_fx.py\", line 1421, in _fw_compiler_base\n",
            "W1202 09:13:14.485000 981 torch/_dynamo/convert_frame.py:1125]     return inner_compile(\n",
            "W1202 09:13:14.485000 981 torch/_dynamo/convert_frame.py:1125]   File \"/usr/local/lib/python3.10/dist-packages/torch/_inductor/compile_fx.py\", line 475, in compile_fx_inner\n",
            "W1202 09:13:14.485000 981 torch/_dynamo/convert_frame.py:1125]     return wrap_compiler_debug(_compile_fx_inner, compiler_name=\"inductor\")(\n",
            "W1202 09:13:14.485000 981 torch/_dynamo/convert_frame.py:1125]   File \"/usr/local/lib/python3.10/dist-packages/torch/_dynamo/repro/after_aot.py\", line 85, in debug_wrapper\n",
            "W1202 09:13:14.485000 981 torch/_dynamo/convert_frame.py:1125]     inner_compiled_fn = compiler_fn(gm, example_inputs)\n",
            "W1202 09:13:14.485000 981 torch/_dynamo/convert_frame.py:1125]   File \"/usr/local/lib/python3.10/dist-packages/torch/_inductor/compile_fx.py\", line 661, in _compile_fx_inner\n",
            "W1202 09:13:14.485000 981 torch/_dynamo/convert_frame.py:1125]     compiled_graph = FxGraphCache.load(\n",
            "W1202 09:13:14.485000 981 torch/_dynamo/convert_frame.py:1125]   File \"/usr/local/lib/python3.10/dist-packages/torch/_inductor/codecache.py\", line 1334, in load\n",
            "W1202 09:13:14.485000 981 torch/_dynamo/convert_frame.py:1125]     compiled_graph = compile_fx_fn(\n",
            "W1202 09:13:14.485000 981 torch/_dynamo/convert_frame.py:1125]   File \"/usr/local/lib/python3.10/dist-packages/torch/_inductor/compile_fx.py\", line 570, in codegen_and_compile\n",
            "W1202 09:13:14.485000 981 torch/_dynamo/convert_frame.py:1125]     compiled_graph = fx_codegen_and_compile(gm, example_inputs, **fx_kwargs)\n",
            "W1202 09:13:14.485000 981 torch/_dynamo/convert_frame.py:1125]   File \"/usr/local/lib/python3.10/dist-packages/torch/_inductor/compile_fx.py\", line 878, in fx_codegen_and_compile\n",
            "W1202 09:13:14.485000 981 torch/_dynamo/convert_frame.py:1125]     compiled_fn = graph.compile_to_fn()\n",
            "W1202 09:13:14.485000 981 torch/_dynamo/convert_frame.py:1125]   File \"/usr/local/lib/python3.10/dist-packages/torch/_inductor/graph.py\", line 1913, in compile_to_fn\n",
            "W1202 09:13:14.485000 981 torch/_dynamo/convert_frame.py:1125]     return self.compile_to_module().call\n",
            "W1202 09:13:14.485000 981 torch/_dynamo/convert_frame.py:1125]   File \"/usr/local/lib/python3.10/dist-packages/torch/_inductor/graph.py\", line 1839, in compile_to_module\n",
            "W1202 09:13:14.485000 981 torch/_dynamo/convert_frame.py:1125]     return self._compile_to_module()\n",
            "W1202 09:13:14.485000 981 torch/_dynamo/convert_frame.py:1125]   File \"/usr/local/lib/python3.10/dist-packages/torch/_inductor/graph.py\", line 1845, in _compile_to_module\n",
            "W1202 09:13:14.485000 981 torch/_dynamo/convert_frame.py:1125]     self.codegen_with_cpp_wrapper() if self.cpp_wrapper else self.codegen()\n",
            "W1202 09:13:14.485000 981 torch/_dynamo/convert_frame.py:1125]   File \"/usr/local/lib/python3.10/dist-packages/torch/_inductor/graph.py\", line 1780, in codegen\n",
            "W1202 09:13:14.485000 981 torch/_dynamo/convert_frame.py:1125]     self.scheduler = Scheduler(self.operations)\n",
            "W1202 09:13:14.485000 981 torch/_dynamo/convert_frame.py:1125]   File \"/usr/local/lib/python3.10/dist-packages/torch/_inductor/scheduler.py\", line 1731, in __init__\n",
            "W1202 09:13:14.485000 981 torch/_dynamo/convert_frame.py:1125]     self._init(nodes)\n",
            "W1202 09:13:14.485000 981 torch/_dynamo/convert_frame.py:1125]   File \"/usr/local/lib/python3.10/dist-packages/torch/_inductor/scheduler.py\", line 1749, in _init\n",
            "W1202 09:13:14.485000 981 torch/_dynamo/convert_frame.py:1125]     self.nodes = [self.create_scheduler_node(n) for n in nodes]\n",
            "W1202 09:13:14.485000 981 torch/_dynamo/convert_frame.py:1125]   File \"/usr/local/lib/python3.10/dist-packages/torch/_inductor/scheduler.py\", line 1749, in <listcomp>\n",
            "W1202 09:13:14.485000 981 torch/_dynamo/convert_frame.py:1125]     self.nodes = [self.create_scheduler_node(n) for n in nodes]\n",
            "W1202 09:13:14.485000 981 torch/_dynamo/convert_frame.py:1125]   File \"/usr/local/lib/python3.10/dist-packages/torch/_inductor/scheduler.py\", line 1856, in create_scheduler_node\n",
            "W1202 09:13:14.485000 981 torch/_dynamo/convert_frame.py:1125]     return SchedulerNode(self, node)\n",
            "W1202 09:13:14.485000 981 torch/_dynamo/convert_frame.py:1125]   File \"/usr/local/lib/python3.10/dist-packages/torch/_inductor/scheduler.py\", line 833, in __init__\n",
            "W1202 09:13:14.485000 981 torch/_dynamo/convert_frame.py:1125]     self._compute_attrs()\n",
            "W1202 09:13:14.485000 981 torch/_dynamo/convert_frame.py:1125]   File \"/usr/local/lib/python3.10/dist-packages/torch/_inductor/scheduler.py\", line 846, in _compute_attrs\n",
            "W1202 09:13:14.485000 981 torch/_dynamo/convert_frame.py:1125]     group_fn = self.scheduler.get_backend(self.node.get_device()).group_fn\n",
            "W1202 09:13:14.485000 981 torch/_dynamo/convert_frame.py:1125]   File \"/usr/local/lib/python3.10/dist-packages/torch/_inductor/scheduler.py\", line 3360, in get_backend\n",
            "W1202 09:13:14.485000 981 torch/_dynamo/convert_frame.py:1125]     self.backends[device] = self.create_backend(device)\n",
            "W1202 09:13:14.485000 981 torch/_dynamo/convert_frame.py:1125]   File \"/usr/local/lib/python3.10/dist-packages/torch/_inductor/scheduler.py\", line 3352, in create_backend\n",
            "W1202 09:13:14.485000 981 torch/_dynamo/convert_frame.py:1125]     raise RuntimeError(\n",
            "W1202 09:13:14.485000 981 torch/_dynamo/convert_frame.py:1125] RuntimeError: Cannot find a working triton installation. Either the package is not installed or it is too old. More information on installing Triton can be found at https://github.com/openai/triton\n",
            "W1202 09:13:14.485000 981 torch/_dynamo/convert_frame.py:1125] \n",
            "W1202 09:13:14.485000 981 torch/_dynamo/convert_frame.py:1125] The above exception was the direct cause of the following exception:\n",
            "W1202 09:13:14.485000 981 torch/_dynamo/convert_frame.py:1125] \n",
            "W1202 09:13:14.485000 981 torch/_dynamo/convert_frame.py:1125] Traceback (most recent call last):\n",
            "W1202 09:13:14.485000 981 torch/_dynamo/convert_frame.py:1125]   File \"/usr/local/lib/python3.10/dist-packages/torch/_dynamo/convert_frame.py\", line 1064, in __call__\n",
            "W1202 09:13:14.485000 981 torch/_dynamo/convert_frame.py:1125]     result = self._inner_convert(\n",
            "W1202 09:13:14.485000 981 torch/_dynamo/convert_frame.py:1125]   File \"/usr/local/lib/python3.10/dist-packages/torch/_dynamo/convert_frame.py\", line 526, in __call__\n",
            "W1202 09:13:14.485000 981 torch/_dynamo/convert_frame.py:1125]     return _compile(\n",
            "W1202 09:13:14.485000 981 torch/_dynamo/convert_frame.py:1125]   File \"/usr/local/lib/python3.10/dist-packages/torch/_dynamo/convert_frame.py\", line 924, in _compile\n",
            "W1202 09:13:14.485000 981 torch/_dynamo/convert_frame.py:1125]     guarded_code = compile_inner(code, one_graph, hooks, transform)\n",
            "W1202 09:13:14.485000 981 torch/_dynamo/convert_frame.py:1125]   File \"/usr/local/lib/python3.10/dist-packages/torch/_dynamo/convert_frame.py\", line 666, in compile_inner\n",
            "W1202 09:13:14.485000 981 torch/_dynamo/convert_frame.py:1125]     return _compile_inner(code, one_graph, hooks, transform)\n",
            "W1202 09:13:14.485000 981 torch/_dynamo/convert_frame.py:1125]   File \"/usr/local/lib/python3.10/dist-packages/torch/_utils_internal.py\", line 87, in wrapper_function\n",
            "W1202 09:13:14.485000 981 torch/_dynamo/convert_frame.py:1125]     return function(*args, **kwargs)\n",
            "W1202 09:13:14.485000 981 torch/_dynamo/convert_frame.py:1125]   File \"/usr/local/lib/python3.10/dist-packages/torch/_dynamo/convert_frame.py\", line 699, in _compile_inner\n",
            "W1202 09:13:14.485000 981 torch/_dynamo/convert_frame.py:1125]     out_code = transform_code_object(code, transform)\n",
            "W1202 09:13:14.485000 981 torch/_dynamo/convert_frame.py:1125]   File \"/usr/local/lib/python3.10/dist-packages/torch/_dynamo/bytecode_transformation.py\", line 1322, in transform_code_object\n",
            "W1202 09:13:14.485000 981 torch/_dynamo/convert_frame.py:1125]     transformations(instructions, code_options)\n",
            "W1202 09:13:14.485000 981 torch/_dynamo/convert_frame.py:1125]   File \"/usr/local/lib/python3.10/dist-packages/torch/_dynamo/convert_frame.py\", line 219, in _fn\n",
            "W1202 09:13:14.485000 981 torch/_dynamo/convert_frame.py:1125]     return fn(*args, **kwargs)\n",
            "W1202 09:13:14.485000 981 torch/_dynamo/convert_frame.py:1125]   File \"/usr/local/lib/python3.10/dist-packages/torch/_dynamo/convert_frame.py\", line 634, in transform\n",
            "W1202 09:13:14.485000 981 torch/_dynamo/convert_frame.py:1125]     tracer.run()\n",
            "W1202 09:13:14.485000 981 torch/_dynamo/convert_frame.py:1125]   File \"/usr/local/lib/python3.10/dist-packages/torch/_dynamo/symbolic_convert.py\", line 2796, in run\n",
            "W1202 09:13:14.485000 981 torch/_dynamo/convert_frame.py:1125]     super().run()\n",
            "W1202 09:13:14.485000 981 torch/_dynamo/convert_frame.py:1125]   File \"/usr/local/lib/python3.10/dist-packages/torch/_dynamo/symbolic_convert.py\", line 983, in run\n",
            "W1202 09:13:14.485000 981 torch/_dynamo/convert_frame.py:1125]     while self.step():\n",
            "W1202 09:13:14.485000 981 torch/_dynamo/convert_frame.py:1125]   File \"/usr/local/lib/python3.10/dist-packages/torch/_dynamo/symbolic_convert.py\", line 895, in step\n",
            "W1202 09:13:14.485000 981 torch/_dynamo/convert_frame.py:1125]     self.dispatch_table[inst.opcode](self, inst)\n",
            "W1202 09:13:14.485000 981 torch/_dynamo/convert_frame.py:1125]   File \"/usr/local/lib/python3.10/dist-packages/torch/_dynamo/symbolic_convert.py\", line 2987, in RETURN_VALUE\n",
            "W1202 09:13:14.485000 981 torch/_dynamo/convert_frame.py:1125]     self._return(inst)\n",
            "W1202 09:13:14.485000 981 torch/_dynamo/convert_frame.py:1125]   File \"/usr/local/lib/python3.10/dist-packages/torch/_dynamo/symbolic_convert.py\", line 2972, in _return\n",
            "W1202 09:13:14.485000 981 torch/_dynamo/convert_frame.py:1125]     self.output.compile_subgraph(\n",
            "W1202 09:13:14.485000 981 torch/_dynamo/convert_frame.py:1125]   File \"/usr/local/lib/python3.10/dist-packages/torch/_dynamo/output_graph.py\", line 1117, in compile_subgraph\n",
            "W1202 09:13:14.485000 981 torch/_dynamo/convert_frame.py:1125]     self.compile_and_call_fx_graph(tx, list(reversed(stack_values)), root)\n",
            "W1202 09:13:14.485000 981 torch/_dynamo/convert_frame.py:1125]   File \"/usr/local/lib/python3.10/dist-packages/torch/_dynamo/output_graph.py\", line 1369, in compile_and_call_fx_graph\n",
            "W1202 09:13:14.485000 981 torch/_dynamo/convert_frame.py:1125]     compiled_fn = self.call_user_compiler(gm)\n",
            "W1202 09:13:14.485000 981 torch/_dynamo/convert_frame.py:1125]   File \"/usr/local/lib/python3.10/dist-packages/torch/_dynamo/output_graph.py\", line 1416, in call_user_compiler\n",
            "W1202 09:13:14.485000 981 torch/_dynamo/convert_frame.py:1125]     return self._call_user_compiler(gm)\n",
            "W1202 09:13:14.485000 981 torch/_dynamo/convert_frame.py:1125]   File \"/usr/local/lib/python3.10/dist-packages/torch/_dynamo/output_graph.py\", line 1465, in _call_user_compiler\n",
            "W1202 09:13:14.485000 981 torch/_dynamo/convert_frame.py:1125]     raise BackendCompilerFailed(self.compiler_fn, e) from e\n",
            "W1202 09:13:14.485000 981 torch/_dynamo/convert_frame.py:1125] torch._dynamo.exc.BackendCompilerFailed: backend='inductor' raised:\n",
            "W1202 09:13:14.485000 981 torch/_dynamo/convert_frame.py:1125] RuntimeError: Cannot find a working triton installation. Either the package is not installed or it is too old. More information on installing Triton can be found at https://github.com/openai/triton\n",
            "W1202 09:13:14.485000 981 torch/_dynamo/convert_frame.py:1125] \n",
            "W1202 09:13:14.485000 981 torch/_dynamo/convert_frame.py:1125] Set TORCH_LOGS=\"+dynamo\" and TORCHDYNAMO_VERBOSE=1 for more information\n",
            "W1202 09:13:14.485000 981 torch/_dynamo/convert_frame.py:1125] \n"
          ]
        },
        {
          "output_type": "stream",
          "name": "stdout",
          "text": [
            "loss: 1020.6769 - accuracy: 0.8055 - val_loss: 138.3331 - val_accuracy: 0.8431\n",
            "Epoch: 1\n",
            "loss: 735.6204 - accuracy: 0.8589 - val_loss: 125.0762 - val_accuracy: 0.8559\n",
            "Epoch: 2\n",
            "loss: 664.6526 - accuracy: 0.8709 - val_loss: 119.5367 - val_accuracy: 0.8637\n",
            "Epoch: 3\n",
            "loss: 620.9990 - accuracy: 0.8789 - val_loss: 115.7380 - val_accuracy: 0.8686\n",
            "Epoch: 4\n",
            "loss: 585.6476 - accuracy: 0.8844 - val_loss: 109.5450 - val_accuracy: 0.8733\n",
            "Epoch: 5\n",
            "loss: 557.9260 - accuracy: 0.8895 - val_loss: 113.0205 - val_accuracy: 0.8628\n",
            "Epoch: 6\n",
            "loss: 538.8250 - accuracy: 0.8924 - val_loss: 110.8065 - val_accuracy: 0.8757\n",
            "Epoch: 7\n",
            "loss: 520.3555 - accuracy: 0.8960 - val_loss: 115.9531 - val_accuracy: 0.8662\n",
            "Epoch: 8\n",
            "loss: 500.7804 - accuracy: 0.8999 - val_loss: 115.6384 - val_accuracy: 0.8691\n",
            "Epoch: 9\n",
            "loss: 486.1349 - accuracy: 0.9029 - val_loss: 106.4094 - val_accuracy: 0.8809\n"
          ]
        }
      ],
      "source": [
        "epochs = 10\n",
        "train_history = {}\n",
        "val_history = {}\n",
        "\n",
        "for epoch in range(epochs):\n",
        "    print('Epoch: {}'.format(epoch))\n",
        "    train(train_history)\n",
        "    validate(val_history)"
      ]
    },
    {
      "cell_type": "markdown",
      "source": [
        "## Training Performance"
      ],
      "metadata": {
        "id": "gGPSrT7tw_Bk"
      }
    },
    {
      "cell_type": "code",
      "execution_count": 23,
      "metadata": {
        "colab": {
          "base_uri": "https://localhost:8080/",
          "height": 927
        },
        "id": "nhzdXlRJfBix",
        "outputId": "810f9701-fa63-4fd6-cbd1-4e4cd973b1ca"
      },
      "outputs": [
        {
          "output_type": "display_data",
          "data": {
            "text/plain": [
              "<Figure size 640x480 with 1 Axes>"
            ],
            "image/png": "[encoded data removed]"
          },
          "metadata": {}
        },
        {
          "output_type": "display_data",
          "data": {
            "text/plain": [
              "<Figure size 640x480 with 1 Axes>"
            ],
            "image/png": "[encoded data removed]"
          },
          "metadata": {}
        }
      ],
      "source": [
        "from matplotlib import pyplot as plt\n",
        "\n",
        "def display_history(train, val):\n",
        "    \"\"\"Summarize history for accuracy and loss.\n",
        "    \"\"\"\n",
        "    plt.plot(train['accuracy'])\n",
        "    plt.plot(val['accuracy'])\n",
        "    plt.title('Model accuracy')\n",
        "    plt.ylabel('accuracy')\n",
        "    plt.xlabel('epoch')\n",
        "    plt.legend(['train', 'valid'], loc='upper left')\n",
        "    plt.show()\n",
        "\n",
        "    plt.plot(train['loss'])\n",
        "    plt.plot(val['loss'])\n",
        "    plt.title('Model loss')\n",
        "    plt.ylabel('loss')\n",
        "    plt.xlabel('epoch')\n",
        "    plt.legend(['train', 'valid'], loc='upper left')\n",
        "    plt.show()\n",
        "\n",
        "display_history(train_history, val_history)"
      ]
    },
    {
      "cell_type": "markdown",
      "source": [
        "## Quality Check"
      ],
      "metadata": {
        "id": "NAoPGFxOxjYW"
      }
    },
    {
      "cell_type": "code",
      "execution_count": 24,
      "metadata": {
        "collapsed": true,
        "id": "UZZlEfgUMCxS"
      },
      "outputs": [],
      "source": [
        "assert max(train_history['accuracy'])>0.72\n",
        "assert max(val_history['accuracy'])>0.73"
      ]
    },
    {
      "cell_type": "markdown",
      "source": [
        "## Visualization"
      ],
      "metadata": {
        "id": "dWTUWvZ_w8tC"
      }
    },
    {
      "cell_type": "code",
      "source": [
        "from sklearn.metrics import confusion_matrix, ConfusionMatrixDisplay\n",
        "\n",
        "predictions = []\n",
        "targets = []\n",
        "\n",
        "# iterate over test data\n",
        "for images, labels in valid_loader:\n",
        "    # TODO: Calculate output based on input \"images\"\n",
        "    output = model(images)\n",
        "\n",
        "    # prediction is a tensor\n",
        "    prediction = output.argmax(dim=1)\n",
        "\n",
        "    # TODO: Copy tensors \"prediction\" and \"labels\" back to CPU and convert them to numpy arrays\n",
        "    # np_prediction = predictions.extend(prediction.detach().cpu().numpy())\n",
        "    # np_labels = targets.extend(labels.detach().cpu().numpy())\n",
        "    np_prediction = prediction.detach().cpu().numpy()\n",
        "    np_labels = labels.detach().cpu().numpy()\n",
        "\n",
        "    predictions.extend(np_prediction)\n",
        "    targets.extend(np_labels)\n",
        "\n",
        "\n",
        "# Create confusion matrix and normalizes it over predicted (columns)\n",
        "cm = confusion_matrix(targets, predictions)\n",
        "\n",
        "# Plot\n",
        "cmd = ConfusionMatrixDisplay(cm, display_labels=classes)\n",
        "fig, ax = plt.subplots(figsize=(10,10))\n",
        "cmd.plot(ax=ax)"
      ],
      "metadata": {
        "id": "UmOLA0qkwp9S",
        "outputId": "cfa8a986-b259-47c6-ebfa-9d889bb7e207",
        "colab": {
          "base_uri": "https://localhost:8080/",
          "height": 833
        }
      },
      "execution_count": 25,
      "outputs": [
        {
          "output_type": "execute_result",
          "data": {
            "text/plain": [
              "<sklearn.metrics._plot.confusion_matrix.ConfusionMatrixDisplay at 0x7ff9c7772170>"
            ]
          },
          "metadata": {},
          "execution_count": 25
        },
        {
          "output_type": "display_data",
          "data": {
            "text/plain": [
              "<Figure size 1000x1000 with 2 Axes>"
            ],
            "image/png": "[encoded data removed]"
          },
          "metadata": {}
        }
      ]
    },
    {
      "cell_type": "code",
      "source": [
        "from sklearn.metrics import classification_report\n",
        "\n",
        "print(classification_report(targets, predictions))"
      ],
      "metadata": {
        "id": "le1_ZXoqv2gM",
        "outputId": "c3618951-4621-49c6-8502-4d88bfd29019",
        "colab": {
          "base_uri": "https://localhost:8080/"
        }
      },
      "execution_count": 26,
      "outputs": [
        {
          "output_type": "stream",
          "name": "stdout",
          "text": [
            "              precision    recall  f1-score   support\n",
            "\n",
            "           0       0.84      0.82      0.83      1000\n",
            "           1       0.98      0.97      0.98      1000\n",
            "           2       0.81      0.78      0.80      1000\n",
            "           3       0.84      0.92      0.88      1000\n",
            "           4       0.82      0.79      0.80      1000\n",
            "           5       0.97      0.95      0.96      1000\n",
            "           6       0.71      0.68      0.70      1000\n",
            "           7       0.93      0.96      0.95      1000\n",
            "           8       0.94      0.97      0.96      1000\n",
            "           9       0.96      0.94      0.95      1000\n",
            "\n",
            "    accuracy                           0.88     10000\n",
            "   macro avg       0.88      0.88      0.88     10000\n",
            "weighted avg       0.88      0.88      0.88     10000\n",
            "\n"
          ]
        }
      ]
    },
    {
      "cell_type": "code",
      "source": [],
      "metadata": {
        "id": "5zdKwscjDHWK"
      },
      "execution_count": null,
      "outputs": []
    }
  ],
  "metadata": {
    "colab": {
      "provenance": [],
      "gpuType": "T4",
      "include_colab_link": true
    },
    "kernelspec": {
      "display_name": "Python 3",
      "name": "python3"
    },
    "language_info": {
      "codemirror_mode": {
        "name": "ipython",
        "version": 3
      },
      "file_extension": ".py",
      "mimetype": "text/x-python",
      "name": "python",
      "nbconvert_exporter": "python",
      "pygments_lexer": "ipython3",
      "version": "3.7.9"
    },
    "toc": {
      "base_numbering": 1,
      "nav_menu": {},
      "number_sections": true,
      "sideBar": true,
      "skip_h1_title": false,
      "title_cell": "Table of Contents",
      "title_sidebar": "Contents",
      "toc_cell": false,
      "toc_position": {},
      "toc_section_display": true,
      "toc_window_display": false
    },
    "varInspector": {
      "cols": {
        "lenName": 16,
        "lenType": 16,
        "lenVar": 40
      },
      "kernels_config": {
        "python": {
          "delete_cmd_postfix": "",
          "delete_cmd_prefix": "del ",
          "library": "var_list.py",
          "varRefreshCmd": "print(var_dic_list())"
        },
        "r": {
          "delete_cmd_postfix": ") ",
          "delete_cmd_prefix": "rm(",
          "library": "var_list.r",
          "varRefreshCmd": "cat(var_dic_list()) "
        }
      },
      "types_to_exclude": [
        "module",
        "function",
        "builtin_function_or_method",
        "instance",
        "_Feature"
      ],
      "window_display": false
    },
    "accelerator": "GPU"
  },
  "nbformat": 4,
  "nbformat_minor": 0
}